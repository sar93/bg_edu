{
 "cells": [
  {
   "cell_type": "code",
   "execution_count": 1,
   "metadata": {},
   "outputs": [],
   "source": [
    "import spacy"
   ]
  },
  {
   "cell_type": "code",
   "execution_count": 2,
   "metadata": {},
   "outputs": [],
   "source": [
    "nlp = spacy.load('en_core_web_sm')"
   ]
  },
  {
   "cell_type": "code",
   "execution_count": 3,
   "metadata": {},
   "outputs": [
    {
     "name": "stdout",
     "output_type": "stream",
     "text": [
      "{'per', 'nobody', 'top', 'thereupon', 'former', 'always', 'really', 'while', 'since', 'well', 'will', 'a', 'across', 'four', 'part', 'them', 'elsewhere', 'this', 'several', 'most', 'amount', 'just', 'ten', 'whereafter', 'whose', 'once', 'between', 'hers', 'less', 'fifteen', 'amongst', 'yet', 'anyway', 'empty', 'been', 'that', 'whom', 'anyone', 'whenever', 'meanwhile', '’d', 'using', 'who', 'everything', 'someone', \"n't\", 'else', 'latter', 'least', 'give', 'n‘t', 'side', 'they', 'forty', 'but', 'indeed', 'hereby', 'first', 'made', 'along', 'may', 'what', 'almost', 'your', 'became', 'one', 'do', 'himself', 'much', 'no', 'afterwards', 'seeming', 'through', 'becomes', 'as', 'some', 'it', '‘ve', 'regarding', 'neither', 'over', 'where', 'wherever', 'last', 'so', 'therein', '’re', 'whence', 'thereafter', 'anyhow', 'without', 'please', 'none', 'why', 'other', 'here', \"'ve\", 'mostly', 'whereby', 'was', 'more', 'would', '’m', 'might', 'has', 'nothing', 'something', \"'m\", 'hereupon', 'nowhere', 'upon', 'also', 'above', 'all', 'because', 'those', 'see', 'seem', 'every', 'whether', 'up', 'around', 'its', 'done', 'two', 'eight', 'next', 'mine', 'hundred', 'six', 'together', 'doing', 'eleven', 'and', 'beside', 'alone', 'noone', 'am', 'twenty', 'in', 'ours', 'before', 'even', 'of', 'can', 'becoming', '‘s', 'whoever', 'must', 'after', 'front', 'rather', 'him', 'could', 'are', 'he', 'towards', 'somewhere', 'which', 'go', 'yourselves', 'should', 'again', 'due', 'below', 'yourself', 'get', 'herein', 'whereas', 'i', 'except', 'very', '‘re', 'ever', 'further', \"'d\", 'not', 'during', 'move', 'within', 'beforehand', 'fifty', 'have', 'however', 'she', 'herself', 'seems', 'any', 'take', 'ca', 'moreover', 'unless', 'same', 'become', 'whither', 'off', 'were', 'many', 'via', 'nor', 'everyone', 'being', 'on', 'into', \"'s\", 'latterly', 'enough', 'own', 'when', 'how', 'we', 'although', 'third', 'each', 'twelve', 'back', 'namely', 'until', 'put', 'whole', 'thru', 'onto', 'n’t', 'the', 'about', 'show', 'sometimes', 'either', 'few', 'hence', 'serious', 're', '’ll', 'from', 'than', 'anywhere', 'everywhere', 'only', 'or', 'whatever', 'often', 'nevertheless', 'my', 'too', 'with', 'thereby', \"'re\", 'her', 'bottom', 'five', 'perhaps', 'name', 'such', 'did', 'out', 'thence', 'say', 'an', 'you', 'quite', 'wherein', 'already', '‘ll', 'besides', 'keep', 'itself', 'otherwise', 'both', '‘d', 'beyond', 'thus', 'toward', 'hereafter', 'by', 'seemed', 'does', 'down', 'be', 'never', 'now', 'another', 'to', 'under', 'cannot', 'still', 'against', '’ve', 'anything', \"'ll\", 'throughout', 'if', 'themselves', 'for', 'though', 'these', 'me', '’s', 'us', 'various', 'sometime', 'formerly', 'at', 'others', 'is', 'our', 'then', 'somehow', 'their', 'make', 'yours', 'full', 'call', 'sixty', 'among', 'ourselves', 'nine', 'therefore', 'there', 'used', 'whereupon', 'his', 'behind', 'had', 'three', 'myself', '‘m'}\n"
     ]
    }
   ],
   "source": [
    "print(nlp.Defaults.stop_words)"
   ]
  },
  {
   "cell_type": "code",
   "execution_count": 4,
   "metadata": {},
   "outputs": [
    {
     "data": {
      "text/plain": [
       "326"
      ]
     },
     "execution_count": 4,
     "metadata": {},
     "output_type": "execute_result"
    }
   ],
   "source": [
    "len(nlp.Defaults.stop_words)"
   ]
  },
  {
   "cell_type": "code",
   "execution_count": 6,
   "metadata": {},
   "outputs": [
    {
     "data": {
      "text/plain": [
       "True"
      ]
     },
     "execution_count": 6,
     "metadata": {},
     "output_type": "execute_result"
    }
   ],
   "source": [
    "nlp.vocab['is'].is_stop"
   ]
  },
  {
   "cell_type": "code",
   "execution_count": 7,
   "metadata": {},
   "outputs": [
    {
     "data": {
      "text/plain": [
       "False"
      ]
     },
     "execution_count": 7,
     "metadata": {},
     "output_type": "execute_result"
    }
   ],
   "source": [
    "nlp.vocab['mystery'].is_stop"
   ]
  },
  {
   "cell_type": "code",
   "execution_count": 8,
   "metadata": {},
   "outputs": [],
   "source": [
    "nlp.Defaults.stop_words.add('btw')"
   ]
  },
  {
   "cell_type": "code",
   "execution_count": 9,
   "metadata": {},
   "outputs": [],
   "source": [
    "nlp.vocab['btw'].is_stop = True"
   ]
  },
  {
   "cell_type": "code",
   "execution_count": 10,
   "metadata": {},
   "outputs": [
    {
     "data": {
      "text/plain": [
       "327"
      ]
     },
     "execution_count": 10,
     "metadata": {},
     "output_type": "execute_result"
    }
   ],
   "source": [
    "len(nlp.Defaults.stop_words)"
   ]
  },
  {
   "cell_type": "code",
   "execution_count": 11,
   "metadata": {},
   "outputs": [
    {
     "data": {
      "text/plain": [
       "True"
      ]
     },
     "execution_count": 11,
     "metadata": {},
     "output_type": "execute_result"
    }
   ],
   "source": [
    "nlp.vocab['btw'].is_stop"
   ]
  },
  {
   "cell_type": "code",
   "execution_count": 12,
   "metadata": {},
   "outputs": [],
   "source": [
    "nlp.Defaults.stop_words.remove('beyond')"
   ]
  },
  {
   "cell_type": "code",
   "execution_count": 13,
   "metadata": {},
   "outputs": [],
   "source": [
    "nlp.vocab['beyond'].is_stop = False"
   ]
  },
  {
   "cell_type": "code",
   "execution_count": 14,
   "metadata": {},
   "outputs": [
    {
     "data": {
      "text/plain": [
       "False"
      ]
     },
     "execution_count": 14,
     "metadata": {},
     "output_type": "execute_result"
    }
   ],
   "source": [
    "nlp.vocab['beyond'].is_stop"
   ]
  },
  {
   "cell_type": "code",
   "execution_count": null,
   "metadata": {},
   "outputs": [],
   "source": []
  }
 ],
 "metadata": {
  "kernelspec": {
   "display_name": "Python 3",
   "language": "python",
   "name": "python3"
  },
  "language_info": {
   "codemirror_mode": {
    "name": "ipython",
    "version": 3
   },
   "file_extension": ".py",
   "mimetype": "text/x-python",
   "name": "python",
   "nbconvert_exporter": "python",
   "pygments_lexer": "ipython3",
   "version": "3.8.4"
  }
 },
 "nbformat": 4,
 "nbformat_minor": 4
}
