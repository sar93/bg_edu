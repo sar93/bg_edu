{
 "cells": [
  {
   "cell_type": "code",
   "execution_count": 2,
   "metadata": {},
   "outputs": [
    {
     "name": "stdout",
     "output_type": "stream",
     "text": [
      "my_var = 10\n",
      "memory address of my_var (decimal): 4417809600\n",
      "memory address of my_var (hex): 0x107526cc0\n"
     ]
    }
   ],
   "source": [
    "my_var = 10\n",
    "print('my_var = {0}'.format(my_var))\n",
    "print('memory address of my_var (decimal): {0}'.format(id(my_var)))\n",
    "print('memory address of my_var (hex): {0}'.format(hex(id(my_var))))"
   ]
  },
  {
   "cell_type": "code",
   "execution_count": 3,
   "metadata": {},
   "outputs": [
    {
     "name": "stdout",
     "output_type": "stream",
     "text": [
      "greeting = Hello\n",
      "memory address of my_var (decimal): 4454798640\n",
      "memory address of my_var (hex): 0x10986d530\n"
     ]
    }
   ],
   "source": [
    "greeting = 'Hello'\n",
    "print('greeting = {0}'.format(greeting))\n",
    "print('memory address of my_var (decimal): {0}'.format(id(greeting)))\n",
    "print('memory address of my_var (hex): {0}'.format(hex(id(greeting))))"
   ]
  },
  {
   "cell_type": "code",
   "execution_count": null,
   "metadata": {},
   "outputs": [],
   "source": []
  },
  {
   "cell_type": "code",
   "execution_count": null,
   "metadata": {},
   "outputs": [],
   "source": []
  }
 ],
 "metadata": {
  "kernelspec": {
   "display_name": "Python 3",
   "language": "python",
   "name": "python3"
  },
  "language_info": {
   "codemirror_mode": {
    "name": "ipython",
    "version": 3
   },
   "file_extension": ".py",
   "mimetype": "text/x-python",
   "name": "python",
   "nbconvert_exporter": "python",
   "pygments_lexer": "ipython3",
   "version": "3.7.7"
  }
 },
 "nbformat": 4,
 "nbformat_minor": 1
}
